{
 "cells": [
  {
   "cell_type": "code",
   "execution_count": null,
   "id": "2bcc22df-ca2d-4cc8-956d-32f8ccddb0cf",
   "metadata": {},
   "outputs": [],
   "source": []
  },
  {
   "cell_type": "code",
   "execution_count": 76,
   "id": "952dba26-d85c-45b3-a49f-91772aa625ec",
   "metadata": {},
   "outputs": [],
   "source": [
    "import pandas as pd\n",
    "import numpy as np\n",
    "import matplotlib.pyplot as plt\n",
    "import seaborn as sns\n",
    "from sklearn.model_selection import train_test_split, GridSearchCV\n",
    "from sklearn.impute import SimpleImputer\n",
    "from sklearn.preprocessing import StandardScaler, OneHotEncoder\n",
    "from sklearn.compose import ColumnTransformer\n",
    "from sklearn.pipeline import Pipeline\n",
    "from sklearn.linear_model import LinearRegression, Ridge, Lasso\n",
    "from sklearn.ensemble import RandomForestRegressor, GradientBoostingRegressor\n",
    "from sklearn.svm import SVR\n",
    "from sklearn.metrics import mean_squared_error, mean_absolute_error, r2_score\n",
    "import joblib\n",
    "import xgboost as xgb\n",
    "\n"
   ]
  },
  {
   "cell_type": "code",
   "execution_count": 77,
   "id": "e336d35e-c22a-419c-a366-cde17f4a5e4a",
   "metadata": {},
   "outputs": [
    {
     "name": "stdout",
     "output_type": "stream",
     "text": [
      "       Environment    Material_Group Material_Family Material    Rate     UNS  \\\n",
      "0  Phosphoric Acid  Stainless steels      Austenitic      316  0.0025  S31600   \n",
      "1  Phosphoric Acid  Stainless steels      Austenitic      316     NaN  S31600   \n",
      "2  Phosphoric Acid  Stainless steels      Austenitic      316  0.0050  S31600   \n",
      "3  Phosphoric Acid  Stainless steels      Austenitic      316  0.0020  S31600   \n",
      "4  Phosphoric Acid  Stainless steels      Austenitic      316  0.0050  S31600   \n",
      "\n",
      "   Condition/Comment  Concentration  Temperature_degC  Temperature_degF  \\\n",
      "0                1.0           10.0                93               200   \n",
      "1                1.0           10.0               100               212   \n",
      "2                1.0           10.0                93               200   \n",
      "3                1.0           10.0                93               200   \n",
      "4                0.0           10.0                93               200   \n",
      "\n",
      "   Duration_days  \n",
      "0          16.00  \n",
      "1           0.08  \n",
      "2          16.00  \n",
      "3          16.00  \n",
      "4          16.00  \n"
     ]
    }
   ],
   "source": [
    "# Load the dataset\n",
    "  # Update with your file path\n",
    "# filepath = \"C:\\\\Users\\\\Admin\\\\Downloads\\\\RMIPRMODEL\\\\SAMPLE_DATASET.xlsx\" \n",
    "\n",
    "filepath = \"C:\\\\Users\\\\Admin\\\\Downloads\\\\RMIPRMODEL\\\\finaldata.xlsx\"\n",
    "\n",
    "df = pd.read_excel(filepath)\n",
    "\n",
    "# Display the first few rows\n",
    "print(df.head())\n"
   ]
  },
  {
   "cell_type": "code",
   "execution_count": 78,
   "id": "60b56b12-d157-4a10-b694-f436ff808526",
   "metadata": {},
   "outputs": [
    {
     "name": "stdout",
     "output_type": "stream",
     "text": [
      "Defaulting to user installation because normal site-packages is not writeable\n",
      "Requirement already satisfied: openpyxl in c:\\users\\admin\\appdata\\roaming\\python\\python312\\site-packages (3.1.5)\n",
      "Requirement already satisfied: et-xmlfile in c:\\users\\admin\\appdata\\roaming\\python\\python312\\site-packages (from openpyxl) (1.1.0)\n"
     ]
    }
   ],
   "source": [
    "!pip install openpyxl"
   ]
  },
  {
   "cell_type": "code",
   "execution_count": 79,
   "id": "699d961d-2975-4b19-a56a-1370fb82a4b0",
   "metadata": {},
   "outputs": [
    {
     "name": "stdout",
     "output_type": "stream",
     "text": [
      "<class 'pandas.core.frame.DataFrame'>\n",
      "RangeIndex: 175 entries, 0 to 174\n",
      "Data columns (total 11 columns):\n",
      " #   Column             Non-Null Count  Dtype  \n",
      "---  ------             --------------  -----  \n",
      " 0   Environment        175 non-null    object \n",
      " 1   Material_Group     175 non-null    object \n",
      " 2   Material_Family    175 non-null    object \n",
      " 3   Material           175 non-null    object \n",
      " 4   Rate               155 non-null    float64\n",
      " 5   UNS                172 non-null    object \n",
      " 6   Condition/Comment  142 non-null    float64\n",
      " 7   Concentration      167 non-null    float64\n",
      " 8   Temperature_degC   175 non-null    int64  \n",
      " 9   Temperature_degF   175 non-null    int64  \n",
      " 10  Duration_days      159 non-null    float64\n",
      "dtypes: float64(4), int64(2), object(5)\n",
      "memory usage: 15.2+ KB\n",
      "None\n",
      "             Rate  Condition/Comment  Concentration  Temperature_degC  \\\n",
      "count  155.000000         142.000000     167.000000        175.000000   \n",
      "mean     5.649330           1.284507      64.976048        103.285714   \n",
      "std     33.491292           1.042113      25.214490         30.438152   \n",
      "min      0.000000           0.000000      10.000000         25.000000   \n",
      "25%      0.009500           1.000000      53.000000         93.000000   \n",
      "50%      0.080000           1.000000      76.000000        100.000000   \n",
      "75%      0.400000           1.000000      85.000000        110.000000   \n",
      "max    391.000000           8.000000     105.000000        250.000000   \n",
      "\n",
      "       Temperature_degF  Duration_days  \n",
      "count        175.000000     159.000000  \n",
      "mean         218.034286      16.569245  \n",
      "std           54.662801      28.521936  \n",
      "min           77.000000       0.080000  \n",
      "25%          200.000000       3.000000  \n",
      "50%          212.000000      16.000000  \n",
      "75%          230.000000      16.000000  \n",
      "max          480.000000     185.000000  \n",
      "Environment           0\n",
      "Material_Group        0\n",
      "Material_Family       0\n",
      "Material              0\n",
      "Rate                 20\n",
      "UNS                   3\n",
      "Condition/Comment    33\n",
      "Concentration         8\n",
      "Temperature_degC      0\n",
      "Temperature_degF      0\n",
      "Duration_days        16\n",
      "dtype: int64\n"
     ]
    }
   ],
   "source": [
    "# Overview of the dataset\n",
    "print(df.info())\n",
    "# Descriptive statistics\n",
    "print(df.describe())\n",
    "\n",
    "# Check for missing values\n",
    "print(df.isnull().sum())\n"
   ]
  },
  {
   "cell_type": "code",
   "execution_count": 80,
   "id": "945e7a43-0bd8-4915-86b1-c90d44247746",
   "metadata": {},
   "outputs": [
    {
     "name": "stdout",
     "output_type": "stream",
     "text": [
      "All required columns are present.\n"
     ]
    },
    {
     "name": "stderr",
     "output_type": "stream",
     "text": [
      "C:\\Users\\Admin\\AppData\\Local\\Temp\\ipykernel_12124\\3235728247.py:28: FutureWarning: Downcasting behavior in `replace` is deprecated and will be removed in a future version. To retain the old behavior, explicitly call `result.infer_objects(copy=False)`. To opt-in to the future behavior, set `pd.set_option('future.no_silent_downcasting', True)`\n",
      "  df['Condition/Comment'] = df['Condition/Comment'].map({1: 'not aerated', 0: 'aerated', 2: 'welded', 3: 'other', 4: 'max corrosion rate'}).fillna('other').replace({'not aerated': 1, 'aerated': 0, 'welded': 2, 'other': 3, 'max corrosion rate': 4}).astype(int)\n"
     ]
    },
    {
     "name": "stdout",
     "output_type": "stream",
     "text": [
      "Mean Absolute Error (MAE): 1.646062887224245\n",
      "Mean Squared Error (MSE): 21.642396030745928\n",
      "Root Mean Squared Error (RMSE): 4.652138866236253\n",
      "R^2 Score: 0.45404997744960474\n",
      "Feature importances:\n",
      "Temperature_degC: 0.3873521906709474\n",
      "Concentration: 0.3311665232012413\n",
      "Temperature_degF: 0.18539006214024323\n",
      "UNS_S31603: 0.022148276900123057\n",
      "Material_316L: 0.019537195272207975\n",
      "Condition/Comment: 0.017237057061973884\n",
      "UNS_N08904: 0.009126734556965069\n",
      "Material_Carpenter 20Cb3 Carpenter Technology Corp.: 0.007140040800003216\n",
      "Material_316: 0.006745447149387293\n",
      "Material_Alloy 904L: 0.004427528461924312\n",
      "UNS_N08020: 0.004296037862638962\n",
      "UNS_S31600: 0.0025643240361199198\n",
      "Duration_days: 0.0015685421626353772\n",
      "Material_Alloy 20: 0.0005921738047638129\n",
      "UNS_N08777: 0.0003013889396229615\n",
      "Material_JS777: 0.0002245249845169697\n",
      "Material_Jessop JS700 Jessop Steel Co.: 7.767518624424789e-05\n",
      "UNS_N08700: 6.638125032549055e-05\n",
      "Material_Carpenter 20Mo-6 Carpenter Technology Corp.: 3.2883674492302725e-05\n",
      "UNS_N08026: 2.900699881182003e-06\n",
      "Material_Uddeholm alloy 904L: 1.9884572350175993e-06\n",
      "Material_317L: 5.014058501737738e-08\n",
      "Environment_Phosphorus: 4.098034297858904e-08\n",
      "UNS_S31703: 1.871508511480577e-08\n",
      "Material_Carpenter 20 Carpenter Technology Corp.: 6.928803978060075e-09\n",
      "UNS_S30400: 3.97615187068852e-09\n",
      "Material_Durimet 20: 1.985538000738368e-09\n",
      "Material_317: 0.0\n",
      "UNS_S31700: 0.0\n"
     ]
    },
    {
     "data": {
      "text/plain": [
       "['corrosion_rate_prediction_model.pkl']"
      ]
     },
     "execution_count": 80,
     "metadata": {},
     "output_type": "execute_result"
    }
   ],
   "source": [
    "# Ensure correct column names are used\n",
    "df.columns = df.columns.str.strip()  # Remove any extra spaces around column names\n",
    "\n",
    "# Verify all required columns are present\n",
    "required_columns = ['Environment', 'Material_Group', 'Material_Family', 'Material', \n",
    "                    'Rate', 'UNS', 'Condition/Comment', \n",
    "                    'Concentration', 'Temperature_degC', \n",
    "                    'Temperature_degF', 'Duration_days']\n",
    "\n",
    "missing_columns = [col for col in required_columns if col not in df.columns]\n",
    "if missing_columns:\n",
    "    print(f\"Missing columns in dataset: {missing_columns}\")\n",
    "else:\n",
    "    print(\"All required columns are present.\")\n",
    "\n",
    "# Drop rows with missing target values\n",
    "df = df.dropna(subset=['Rate'])\n",
    "\n",
    "# Impute missing predictor values\n",
    "imputer = SimpleImputer(strategy='most_frequent')\n",
    "df[required_columns] = imputer.fit_transform(df[required_columns])\n",
    "\n",
    "# Encoding categorical columns\n",
    "categorical_columns = ['Environment', 'Material_Group', 'Material_Family', 'Material', 'UNS']\n",
    "df = pd.get_dummies(df, columns=categorical_columns, drop_first=True)\n",
    "\n",
    "# Encode 'Condition/Comment' as ordinal categories\n",
    "df['Condition/Comment'] = df['Condition/Comment'].map({1: 'not aerated', 0: 'aerated', 2: 'welded', 3: 'other', 4: 'max corrosion rate'}).fillna('other').replace({'not aerated': 1, 'aerated': 0, 'welded': 2, 'other': 3, 'max corrosion rate': 4}).astype(int)\n",
    "\n",
    "# Defining numerical columns\n",
    "numerical_columns = ['Concentration', 'Temperature_degC', 'Temperature_degF', 'Duration_days']\n",
    "\n",
    "# Preprocessing pipeline\n",
    "preprocessor = ColumnTransformer(\n",
    "    transformers=[\n",
    "        ('num', StandardScaler(), numerical_columns),\n",
    "    ],\n",
    "    remainder='passthrough'\n",
    ")\n",
    "\n",
    "# Split the data\n",
    "X = df.drop('Rate', axis=1)\n",
    "y = df['Rate']\n",
    "\n",
    "X_train, X_test, y_train, y_test = train_test_split(X, y, test_size=0.2, random_state=42)\n",
    "\n",
    "# Define the model\n",
    "model = Pipeline(steps=[\n",
    "    ('preprocessor', preprocessor),\n",
    "    ('regressor', RandomForestRegressor(n_estimators=100, random_state=42))\n",
    "])\n",
    "\n",
    "# Train the model\n",
    "model.fit(X_train, y_train)\n",
    "\n",
    "# Predict and evaluate\n",
    "y_pred = model.predict(X_test)\n",
    "print(\"Mean Absolute Error (MAE):\", mean_absolute_error(y_test, y_pred))\n",
    "print(\"Mean Squared Error (MSE):\", mean_squared_error(y_test, y_pred))\n",
    "print(\"Root Mean Squared Error (RMSE):\", np.sqrt(mean_squared_error(y_test, y_pred)))\n",
    "print(\"R^2 Score:\", r2_score(y_test, y_pred))\n",
    "\n",
    "# Feature importances\n",
    "if hasattr(model.named_steps['regressor'], 'feature_importances_'):\n",
    "    feature_importances = model.named_steps['regressor'].feature_importances_\n",
    "    features = X_train.columns\n",
    "    sorted_indices = np.argsort(feature_importances)[::-1]\n",
    "    print(\"Feature importances:\")\n",
    "    for i in sorted_indices:\n",
    "        print(f\"{features[i]}: {feature_importances[i]}\")\n",
    "else:\n",
    "    print(\"The regressor does not have feature importances attribute.\")\n",
    "\n",
    "# Save the model\n",
    "joblib.dump(model, 'corrosion_rate_prediction_model.pkl')\n",
    "\n",
    "\n",
    "model = joblib.load('corrosion_rate_prediction_model.pkl')"
   ]
  },
  {
   "cell_type": "code",
   "execution_count": 90,
   "id": "50d17b9e-8a59-45ba-9a74-bd0b10c949b0",
   "metadata": {},
   "outputs": [
    {
     "ename": "ValueError",
     "evalue": "columns are missing: {'Material_316', 'Material_Jessop JS700 Jessop Steel Co.', 'Material_Uddeholm alloy 904L', 'UNS_S31700', 'UNS_N08700', 'UNS_S31703', 'Material_317', 'Material_317L', 'Material_Carpenter 20Cb3 Carpenter Technology Corp.', 'UNS_N08777', 'UNS_S31600', 'Material_Alloy 20', 'UNS_S31603', 'Material_Alloy 904L', 'Environment_Phosphorus', 'UNS_N08904', 'UNS_S30400', 'Material_316L', 'UNS_N08020', 'Material_Carpenter 20 Carpenter Technology Corp.', 'Material_Carpenter 20Mo-6 Carpenter Technology Corp.', 'UNS_N08026', 'Material_Durimet 20', 'Material_JS777'}",
     "output_type": "error",
     "traceback": [
      "\u001b[1;31m---------------------------------------------------------------------------\u001b[0m",
      "\u001b[1;31mValueError\u001b[0m                                Traceback (most recent call last)",
      "Cell \u001b[1;32mIn[90], line 25\u001b[0m\n\u001b[0;32m      8\u001b[0m new_data \u001b[38;5;241m=\u001b[39m pd\u001b[38;5;241m.\u001b[39mDataFrame({\n\u001b[0;32m      9\u001b[0m     \u001b[38;5;124m'\u001b[39m\u001b[38;5;124mEnvironment\u001b[39m\u001b[38;5;124m'\u001b[39m: [\u001b[38;5;124m'\u001b[39m\u001b[38;5;124mPhosphoric Acid\u001b[39m\u001b[38;5;124m'\u001b[39m],\n\u001b[0;32m     10\u001b[0m     \u001b[38;5;124m'\u001b[39m\u001b[38;5;124mMaterial_Group\u001b[39m\u001b[38;5;124m'\u001b[39m: [\u001b[38;5;124m'\u001b[39m\u001b[38;5;124mStainless steels\u001b[39m\u001b[38;5;124m'\u001b[39m],\n\u001b[1;32m   (...)\u001b[0m\n\u001b[0;32m     18\u001b[0m     \u001b[38;5;124m'\u001b[39m\u001b[38;5;124mDuration_days\u001b[39m\u001b[38;5;124m'\u001b[39m: [\u001b[38;5;241m30\u001b[39m]\n\u001b[0;32m     19\u001b[0m })\n\u001b[0;32m     21\u001b[0m \u001b[38;5;66;03m# Apply preprocessing to the new data\u001b[39;00m\n\u001b[0;32m     22\u001b[0m \u001b[38;5;66;03m# The model includes preprocessing, so we don't need to preprocess separately\u001b[39;00m\n\u001b[0;32m     23\u001b[0m \n\u001b[0;32m     24\u001b[0m \u001b[38;5;66;03m# Predict the corrosion rate using the loaded model\u001b[39;00m\n\u001b[1;32m---> 25\u001b[0m predicted_rate \u001b[38;5;241m=\u001b[39m \u001b[43mmodel\u001b[49m\u001b[38;5;241;43m.\u001b[39;49m\u001b[43mpredict\u001b[49m\u001b[43m(\u001b[49m\u001b[43mnew_data\u001b[49m\u001b[43m)\u001b[49m\n\u001b[0;32m     26\u001b[0m \u001b[38;5;28mprint\u001b[39m(\u001b[38;5;124mf\u001b[39m\u001b[38;5;124m\"\u001b[39m\u001b[38;5;124mPredicted Corrosion Rate: \u001b[39m\u001b[38;5;132;01m{\u001b[39;00mpredicted_rate[\u001b[38;5;241m0\u001b[39m]\u001b[38;5;132;01m}\u001b[39;00m\u001b[38;5;124m\"\u001b[39m)\n",
      "File \u001b[1;32m~\\AppData\\Roaming\\Python\\Python312\\site-packages\\sklearn\\pipeline.py:600\u001b[0m, in \u001b[0;36mPipeline.predict\u001b[1;34m(self, X, **params)\u001b[0m\n\u001b[0;32m    598\u001b[0m \u001b[38;5;28;01mif\u001b[39;00m \u001b[38;5;129;01mnot\u001b[39;00m _routing_enabled():\n\u001b[0;32m    599\u001b[0m     \u001b[38;5;28;01mfor\u001b[39;00m _, name, transform \u001b[38;5;129;01min\u001b[39;00m \u001b[38;5;28mself\u001b[39m\u001b[38;5;241m.\u001b[39m_iter(with_final\u001b[38;5;241m=\u001b[39m\u001b[38;5;28;01mFalse\u001b[39;00m):\n\u001b[1;32m--> 600\u001b[0m         Xt \u001b[38;5;241m=\u001b[39m \u001b[43mtransform\u001b[49m\u001b[38;5;241;43m.\u001b[39;49m\u001b[43mtransform\u001b[49m\u001b[43m(\u001b[49m\u001b[43mXt\u001b[49m\u001b[43m)\u001b[49m\n\u001b[0;32m    601\u001b[0m     \u001b[38;5;28;01mreturn\u001b[39;00m \u001b[38;5;28mself\u001b[39m\u001b[38;5;241m.\u001b[39msteps[\u001b[38;5;241m-\u001b[39m\u001b[38;5;241m1\u001b[39m][\u001b[38;5;241m1\u001b[39m]\u001b[38;5;241m.\u001b[39mpredict(Xt, \u001b[38;5;241m*\u001b[39m\u001b[38;5;241m*\u001b[39mparams)\n\u001b[0;32m    603\u001b[0m \u001b[38;5;66;03m# metadata routing enabled\u001b[39;00m\n",
      "File \u001b[1;32m~\\AppData\\Roaming\\Python\\Python312\\site-packages\\sklearn\\utils\\_set_output.py:313\u001b[0m, in \u001b[0;36m_wrap_method_output.<locals>.wrapped\u001b[1;34m(self, X, *args, **kwargs)\u001b[0m\n\u001b[0;32m    311\u001b[0m \u001b[38;5;129m@wraps\u001b[39m(f)\n\u001b[0;32m    312\u001b[0m \u001b[38;5;28;01mdef\u001b[39;00m \u001b[38;5;21mwrapped\u001b[39m(\u001b[38;5;28mself\u001b[39m, X, \u001b[38;5;241m*\u001b[39margs, \u001b[38;5;241m*\u001b[39m\u001b[38;5;241m*\u001b[39mkwargs):\n\u001b[1;32m--> 313\u001b[0m     data_to_wrap \u001b[38;5;241m=\u001b[39m \u001b[43mf\u001b[49m\u001b[43m(\u001b[49m\u001b[38;5;28;43mself\u001b[39;49m\u001b[43m,\u001b[49m\u001b[43m \u001b[49m\u001b[43mX\u001b[49m\u001b[43m,\u001b[49m\u001b[43m \u001b[49m\u001b[38;5;241;43m*\u001b[39;49m\u001b[43margs\u001b[49m\u001b[43m,\u001b[49m\u001b[43m \u001b[49m\u001b[38;5;241;43m*\u001b[39;49m\u001b[38;5;241;43m*\u001b[39;49m\u001b[43mkwargs\u001b[49m\u001b[43m)\u001b[49m\n\u001b[0;32m    314\u001b[0m     \u001b[38;5;28;01mif\u001b[39;00m \u001b[38;5;28misinstance\u001b[39m(data_to_wrap, \u001b[38;5;28mtuple\u001b[39m):\n\u001b[0;32m    315\u001b[0m         \u001b[38;5;66;03m# only wrap the first output for cross decomposition\u001b[39;00m\n\u001b[0;32m    316\u001b[0m         return_tuple \u001b[38;5;241m=\u001b[39m (\n\u001b[0;32m    317\u001b[0m             _wrap_data_with_container(method, data_to_wrap[\u001b[38;5;241m0\u001b[39m], X, \u001b[38;5;28mself\u001b[39m),\n\u001b[0;32m    318\u001b[0m             \u001b[38;5;241m*\u001b[39mdata_to_wrap[\u001b[38;5;241m1\u001b[39m:],\n\u001b[0;32m    319\u001b[0m         )\n",
      "File \u001b[1;32m~\\AppData\\Roaming\\Python\\Python312\\site-packages\\sklearn\\compose\\_column_transformer.py:1065\u001b[0m, in \u001b[0;36mColumnTransformer.transform\u001b[1;34m(self, X, **params)\u001b[0m\n\u001b[0;32m   1063\u001b[0m     diff \u001b[38;5;241m=\u001b[39m all_names \u001b[38;5;241m-\u001b[39m \u001b[38;5;28mset\u001b[39m(column_names)\n\u001b[0;32m   1064\u001b[0m     \u001b[38;5;28;01mif\u001b[39;00m diff:\n\u001b[1;32m-> 1065\u001b[0m         \u001b[38;5;28;01mraise\u001b[39;00m \u001b[38;5;167;01mValueError\u001b[39;00m(\u001b[38;5;124mf\u001b[39m\u001b[38;5;124m\"\u001b[39m\u001b[38;5;124mcolumns are missing: \u001b[39m\u001b[38;5;132;01m{\u001b[39;00mdiff\u001b[38;5;132;01m}\u001b[39;00m\u001b[38;5;124m\"\u001b[39m)\n\u001b[0;32m   1066\u001b[0m \u001b[38;5;28;01melse\u001b[39;00m:\n\u001b[0;32m   1067\u001b[0m     \u001b[38;5;66;03m# ndarray was used for fitting or transforming, thus we only\u001b[39;00m\n\u001b[0;32m   1068\u001b[0m     \u001b[38;5;66;03m# check that n_features_in_ is consistent\u001b[39;00m\n\u001b[0;32m   1069\u001b[0m     \u001b[38;5;28mself\u001b[39m\u001b[38;5;241m.\u001b[39m_check_n_features(X, reset\u001b[38;5;241m=\u001b[39m\u001b[38;5;28;01mFalse\u001b[39;00m)\n",
      "\u001b[1;31mValueError\u001b[0m: columns are missing: {'Material_316', 'Material_Jessop JS700 Jessop Steel Co.', 'Material_Uddeholm alloy 904L', 'UNS_S31700', 'UNS_N08700', 'UNS_S31703', 'Material_317', 'Material_317L', 'Material_Carpenter 20Cb3 Carpenter Technology Corp.', 'UNS_N08777', 'UNS_S31600', 'Material_Alloy 20', 'UNS_S31603', 'Material_Alloy 904L', 'Environment_Phosphorus', 'UNS_N08904', 'UNS_S30400', 'Material_316L', 'UNS_N08020', 'Material_Carpenter 20 Carpenter Technology Corp.', 'Material_Carpenter 20Mo-6 Carpenter Technology Corp.', 'UNS_N08026', 'Material_Durimet 20', 'Material_JS777'}"
     ]
    }
   ],
   "source": [
    "import pandas as pd\n",
    "import joblib\n",
    "\n",
    "# Load the saved model\n",
    "model = joblib.load('corrosion_rate_prediction_model.pkl')\n",
    "\n",
    "# Define new data for prediction\n",
    "new_data = pd.DataFrame({\n",
    "    'Environment': ['Phosphoric Acid'],\n",
    "    'Material_Group': ['Stainless steels'],\n",
    "    'Material_Family': ['Austenitic'],\n",
    "    'Material': ['316L'],\n",
    "    'UNS': ['S31603'],\n",
    "    'Condition/Comment': [2],\n",
    "    'Concentration': [53],\n",
    "    'Temperature_degC': [93],\n",
    "    'Temperature_degF': [200],\n",
    "    'Duration_days': [30]\n",
    "})\n",
    "\n",
    "# Apply preprocessing to the new data\n",
    "# The model includes preprocessing, so we don't need to preprocess separately\n",
    "\n",
    "# Predict the corrosion rate using the loaded model\n",
    "predicted_rate = model.predict(new_data)\n",
    "print(f\"Predicted Corrosion Rate: {predicted_rate[0]}\")\n"
   ]
  },
  {
   "cell_type": "code",
   "execution_count": null,
   "id": "0d9ac2c7-6e75-45a1-905f-2c6e256c4ebb",
   "metadata": {},
   "outputs": [],
   "source": []
  }
 ],
 "metadata": {
  "kernelspec": {
   "display_name": "Python 3 (ipykernel)",
   "language": "python",
   "name": "python3"
  },
  "language_info": {
   "codemirror_mode": {
    "name": "ipython",
    "version": 3
   },
   "file_extension": ".py",
   "mimetype": "text/x-python",
   "name": "python",
   "nbconvert_exporter": "python",
   "pygments_lexer": "ipython3",
   "version": "3.12.5"
  }
 },
 "nbformat": 4,
 "nbformat_minor": 5
}
